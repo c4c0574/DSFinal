{
 "cells": [
  {
   "cell_type": "markdown",
   "id": "bb8e9d22",
   "metadata": {},
   "source": [
    "# Data Science Tools and Ecosystem"
   ]
  },
  {
   "cell_type": "markdown",
   "id": "5b081e71",
   "metadata": {},
   "source": [
    "In this notebook, Data Science Tools and Ecosystems are summarized."
   ]
  },
  {
   "cell_type": "markdown",
   "id": "4f8d2427",
   "metadata": {},
   "source": [
    "# ** Objectives**\n",
    "- List popular languages that Data Scientists use\n",
    "- List commonly used libraries\n",
    "- Show examples of basic arithmetic"
   ]
  },
  {
   "cell_type": "markdown",
   "id": "083e943b",
   "metadata": {},
   "source": [
    "# Some of the popular languages that Data Scientists use are:\n",
    "1. R\n",
    "2. Python\n",
    "3. SQL"
   ]
  },
  {
   "cell_type": "markdown",
   "id": "68452d69",
   "metadata": {},
   "source": [
    "Some of the commonly used libraries used by Data Scientists include:\n",
    "1. NumPy\n",
    "2. SciPy\n",
    "3. PyTorch"
   ]
  },
  {
   "cell_type": "markdown",
   "id": "8c043751",
   "metadata": {},
   "source": [
    "| Data Science Tools|\n",
    "| ----------------- |\n",
    "| Apache Hadoop |\n",
    "| SAS |\n",
    "| Apacha Spark |"
   ]
  },
  {
   "cell_type": "markdown",
   "id": "3bb009c0",
   "metadata": {},
   "source": [
    "### Below are a few examples of evaluating arithmetic expressions in Python"
   ]
  },
  {
   "cell_type": "markdown",
   "id": "34b3f0b4",
   "metadata": {},
   "source": [
    "# This is a simple expression to multiply then add integers."
   ]
  },
  {
   "cell_type": "code",
   "execution_count": 1,
   "id": "bf36c3ed",
   "metadata": {},
   "outputs": [
    {
     "data": {
      "text/plain": [
       "17"
      ]
     },
     "execution_count": 1,
     "metadata": {},
     "output_type": "execute_result"
    }
   ],
   "source": [
    "(3*4)+5"
   ]
  },
  {
   "cell_type": "markdown",
   "id": "ca13427d",
   "metadata": {},
   "source": [
    "# This will convert 200 minutes to hours by diving by 60.\n",
    "#### Note: the spelling error is due to the original authors. This author chose to leave it in for authenticity."
   ]
  },
  {
   "cell_type": "code",
   "execution_count": 2,
   "id": "364aea74",
   "metadata": {},
   "outputs": [
    {
     "data": {
      "text/plain": [
       "3.3333333333333335"
      ]
     },
     "execution_count": 2,
     "metadata": {},
     "output_type": "execute_result"
    }
   ],
   "source": [
    "200/60"
   ]
  },
  {
   "cell_type": "markdown",
   "id": "cf0bb215",
   "metadata": {},
   "source": [
    "## Author\n",
    "Corey Eugene Acosta"
   ]
  },
  {
   "cell_type": "code",
   "execution_count": null,
   "id": "fc9c7903",
   "metadata": {},
   "outputs": [],
   "source": []
  }
 ],
 "metadata": {
  "kernelspec": {
   "display_name": "Python 3 (ipykernel)",
   "language": "python",
   "name": "python3"
  },
  "language_info": {
   "codemirror_mode": {
    "name": "ipython",
    "version": 3
   },
   "file_extension": ".py",
   "mimetype": "text/x-python",
   "name": "python",
   "nbconvert_exporter": "python",
   "pygments_lexer": "ipython3",
   "version": "3.10.9"
  }
 },
 "nbformat": 4,
 "nbformat_minor": 5
}
